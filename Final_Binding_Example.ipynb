{
  "nbformat": 4,
  "nbformat_minor": 0,
  "metadata": {
    "colab": {
      "name": "Final_Binding_Example.ipynb",
      "provenance": [],
      "toc_visible": true,
      "authorship_tag": "ABX9TyOv9pnGrYTOos8TAPU6mk2x",
      "include_colab_link": true
    },
    "kernelspec": {
      "name": "python3",
      "display_name": "Python 3"
    },
    "language_info": {
      "name": "python"
    }
  },
  "cells": [
    {
      "cell_type": "markdown",
      "metadata": {
        "id": "view-in-github",
        "colab_type": "text"
      },
      "source": [
        "<a href=\"https://colab.research.google.com/github/arunjaiswal1411/arunjaiswal1411/blob/main/Final_Binding_Example.ipynb\" target=\"_parent\"><img src=\"https://colab.research.google.com/assets/colab-badge.svg\" alt=\"Open In Colab\"/></a>"
      ]
    },
    {
      "cell_type": "code",
      "metadata": {
        "id": "9Sc423gWxG9-"
      },
      "source": [
        "#import libraries\n",
        "import numpy as np\n",
        "import matplotlib.pyplot as plt\n",
        "import pandas as pd "
      ],
      "execution_count": null,
      "outputs": []
    },
    {
      "cell_type": "code",
      "metadata": {
        "colab": {
          "base_uri": "https://localhost:8080/"
        },
        "id": "I9sSRQQTxU1f",
        "outputId": "41b83152-a592-4336-c587-134046b858e9"
      },
      "source": [
        "#Import dataset\n",
        "#creating a variable\n",
        "dataset = pd.read_csv('Final_Binding.csv')\n",
        "x = dataset.iloc[:, :-1].values\n",
        "y = dataset.iloc[:, -1].values\n",
        "print(x)\n",
        "print(y)"
      ],
      "execution_count": null,
      "outputs": [
        {
          "output_type": "stream",
          "text": [
            "[['WP004583577.1' 'DLNC_ZINC03841756' -8.6 1.55]\n",
            " ['WP004584226.1' 'DLNC_ZINC04235909' -7.5 4.437]\n",
            " ['WP010956218.1' 'DLNC_ZINC03840461' -9.3 nan]\n",
            " ['WP004583577.1' 'DLNC_ZINC03841756' nan 1.55]\n",
            " ['WP004584226.1' 'DLNC_ZINC04235909' -7.7 4.437]\n",
            " ['WP010956218.1' 'DLNC_ZINC03840461' -8.9 1.8259999999999998]]\n",
            "[2 2 3 3 3 5]\n"
          ],
          "name": "stdout"
        }
      ]
    },
    {
      "cell_type": "code",
      "metadata": {
        "colab": {
          "base_uri": "https://localhost:8080/"
        },
        "id": "jX3frmCNx0H6",
        "outputId": "c5c95bf5-15f4-4fe4-d229-632ae247c358"
      },
      "source": [
        "#Taking care of missing data\n",
        "import numpy as np\n",
        "from sklearn.impute import SimpleImputer\n",
        "imputer = SimpleImputer(missing_values=np.nan, strategy='mean')\n",
        "imputer.fit(x[:, 2:4])\n",
        "x[:, 2:4] = imputer.transform(x[:, 2:4])\n",
        "print(x)"
      ],
      "execution_count": null,
      "outputs": [
        {
          "output_type": "stream",
          "text": [
            "[['WP004583577.1' 'DLNC_ZINC03841756' -8.6 1.55]\n",
            " ['WP004584226.1' 'DLNC_ZINC04235909' -7.5 4.437]\n",
            " ['WP010956218.1' 'DLNC_ZINC03840461' -9.3 2.7600000000000002]\n",
            " ['WP004583577.1' 'DLNC_ZINC03841756' -8.4 1.55]\n",
            " ['WP004584226.1' 'DLNC_ZINC04235909' -7.7 4.437]\n",
            " ['WP010956218.1' 'DLNC_ZINC03840461' -8.9 1.8259999999999998]]\n"
          ],
          "name": "stdout"
        }
      ]
    },
    {
      "cell_type": "code",
      "metadata": {
        "colab": {
          "base_uri": "https://localhost:8080/"
        },
        "id": "qAJzOKiJyN1E",
        "outputId": "c54e553b-0a30-4d84-e541-15fa1001045e"
      },
      "source": [
        "#Encoding categorical data\n",
        "#Encoding the Independent Variable\n",
        "import numpy as np\n",
        "from sklearn.compose import ColumnTransformer\n",
        "from sklearn.preprocessing import OneHotEncoder\n",
        "ct = ColumnTransformer(transformers=[('encoder', OneHotEncoder(), [0])], remainder='passthrough')\n",
        "x = np.array(ct.fit_transform(x))\n",
        "print(x)"
      ],
      "execution_count": null,
      "outputs": [
        {
          "output_type": "stream",
          "text": [
            "[[1.0 0.0 0.0 'DLNC_ZINC03841756' -8.6 1.55]\n",
            " [0.0 1.0 0.0 'DLNC_ZINC04235909' -7.5 4.437]\n",
            " [0.0 0.0 1.0 'DLNC_ZINC03840461' -9.3 2.7600000000000002]\n",
            " [1.0 0.0 0.0 'DLNC_ZINC03841756' -8.4 1.55]\n",
            " [0.0 1.0 0.0 'DLNC_ZINC04235909' -7.7 4.437]\n",
            " [0.0 0.0 1.0 'DLNC_ZINC03840461' -8.9 1.8259999999999998]]\n"
          ],
          "name": "stdout"
        }
      ]
    },
    {
      "cell_type": "code",
      "metadata": {
        "colab": {
          "base_uri": "https://localhost:8080/"
        },
        "id": "vFwE9v5Pyb1j",
        "outputId": "a4458391-63d5-4dd9-b7ac-afd19b3944ab"
      },
      "source": [
        "#Encoding categorical data\n",
        "#Encoding the Dependent data\n",
        "from sklearn.preprocessing import LabelEncoder\n",
        "le = LabelEncoder()\n",
        "y = le.fit_transform(y)\n",
        "print(y)"
      ],
      "execution_count": null,
      "outputs": [
        {
          "output_type": "stream",
          "text": [
            "[0 0 1 1 1 2]\n"
          ],
          "name": "stdout"
        }
      ]
    },
    {
      "cell_type": "code",
      "metadata": {
        "id": "ES0nCvvZykRy"
      },
      "source": [
        "#Splitting the dataset into the training set and test set\n",
        "from sklearn.model_selection import train_test_split\n",
        "x_train, x_test, y_train, y_test = train_test_split(x, y, test_size = 0.2, random_state = 1)"
      ],
      "execution_count": null,
      "outputs": []
    },
    {
      "cell_type": "code",
      "metadata": {
        "colab": {
          "base_uri": "https://localhost:8080/"
        },
        "id": "iga1-IQ4ymAF",
        "outputId": "48b3d756-377d-4c0f-b997-f4b89c924db0"
      },
      "source": [
        "print(x_train)"
      ],
      "execution_count": null,
      "outputs": [
        {
          "output_type": "stream",
          "text": [
            "[[0.0 1.0 0.0 'DLNC_ZINC04235909' -7.7 4.437]\n",
            " [1.0 0.0 0.0 'DLNC_ZINC03841756' -8.6 1.55]\n",
            " [1.0 0.0 0.0 'DLNC_ZINC03841756' -8.4 1.55]\n",
            " [0.0 0.0 1.0 'DLNC_ZINC03840461' -8.9 1.8259999999999998]]\n"
          ],
          "name": "stdout"
        }
      ]
    },
    {
      "cell_type": "code",
      "metadata": {
        "colab": {
          "base_uri": "https://localhost:8080/"
        },
        "id": "CNJKQxQAymNr",
        "outputId": "af93059b-053b-4b43-b360-832f64d660a8"
      },
      "source": [
        "print(x_test)"
      ],
      "execution_count": null,
      "outputs": [
        {
          "output_type": "stream",
          "text": [
            "[[0.0 0.0 1.0 'DLNC_ZINC03840461' -9.3 2.7600000000000002]\n",
            " [0.0 1.0 0.0 'DLNC_ZINC04235909' -7.5 4.437]]\n"
          ],
          "name": "stdout"
        }
      ]
    },
    {
      "cell_type": "code",
      "metadata": {
        "colab": {
          "base_uri": "https://localhost:8080/"
        },
        "id": "lupcXmczymYB",
        "outputId": "bb9100ef-7315-42fd-838a-db3bb600540a"
      },
      "source": [
        "print(y_train)"
      ],
      "execution_count": null,
      "outputs": [
        {
          "output_type": "stream",
          "text": [
            "[1 0 1 2]\n"
          ],
          "name": "stdout"
        }
      ]
    },
    {
      "cell_type": "code",
      "metadata": {
        "colab": {
          "base_uri": "https://localhost:8080/"
        },
        "id": "XQF6dh5Eymfi",
        "outputId": "b126fba2-61a4-4f05-dbb8-b6c0d60a8790"
      },
      "source": [
        "print(y_test)"
      ],
      "execution_count": null,
      "outputs": [
        {
          "output_type": "stream",
          "text": [
            "[1 0]\n"
          ],
          "name": "stdout"
        }
      ]
    },
    {
      "cell_type": "code",
      "metadata": {
        "id": "KKFKIXjL7_a_"
      },
      "source": [
        "#feature scaling\n",
        "#Implementation of Feature scale\n",
        "from sklearn.preprocessing import StandardScaler\n",
        "sc = StandardScaler()\n",
        "x_train[:, 4:] = sc.fit_transform(x_train[:, 4:])\n",
        "x_test[:, 4:] = sc.transform(x_test[:, 4:])"
      ],
      "execution_count": null,
      "outputs": []
    },
    {
      "cell_type": "code",
      "metadata": {
        "colab": {
          "base_uri": "https://localhost:8080/"
        },
        "id": "_IbCQH0L8sLl",
        "outputId": "133ebf8e-c0d6-4a17-f0e1-9ec0a81d7815"
      },
      "source": [
        "print(x_train)"
      ],
      "execution_count": null,
      "outputs": [
        {
          "output_type": "stream",
          "text": [
            "[[0.0 1.0 0.0 'DLNC_ZINC04235909' 1.5851878478024344 1.7245928387269933]\n",
            " [1.0 0.0 0.0 'DLNC_ZINC03841756' -0.4529108136578367 -0.6505530290868787]\n",
            " [1.0 0.0 0.0 'DLNC_ZINC03841756' 0.0 -0.6505530290868787]\n",
            " [0.0 0.0 1.0 'DLNC_ZINC03840461' -1.1322770341445958 -0.4234867805532354]]\n"
          ],
          "name": "stdout"
        }
      ]
    },
    {
      "cell_type": "code",
      "metadata": {
        "colab": {
          "base_uri": "https://localhost:8080/"
        },
        "id": "9PQtcdy88sVw",
        "outputId": "3e463ec2-f891-42ea-ae6c-a18ff202802d"
      },
      "source": [
        "print(x_test)"
      ],
      "execution_count": null,
      "outputs": [
        {
          "output_type": "stream",
          "text": [
            "[[0.0 0.0 1.0 'DLNC_ZINC03840461' -2.038098661460273 0.34491856774539886]\n",
            " [0.0 1.0 0.0 'DLNC_ZINC04235909' 2.038098661460273 1.7245928387269933]]\n"
          ],
          "name": "stdout"
        }
      ]
    }
  ]
}